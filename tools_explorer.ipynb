{
 "cells": [
  {
   "cell_type": "code",
   "execution_count": 4,
   "metadata": {},
   "outputs": [],
   "source": [
    "import pandas as pd\n",
    "import numpy as np\n",
    "import matplotlib.pyplot as plt\n",
    "import seaborn as sns\n",
    "import requests\n",
    "import json\n",
    "from bs4 import BeautifulSoup\n"
   ]
  },
  {
   "cell_type": "code",
   "execution_count": 5,
   "metadata": {},
   "outputs": [
    {
     "name": "stdout",
     "output_type": "stream",
     "text": [
      "<html>\n",
      " <head>\n",
      "  <script type=\"text/javascript\">\n",
      "   window.onload = function() {\n",
      "  // Parse the tracking code from cookies.\n",
      "  var trk = \"bf\";\n",
      "  var trkInfo = \"bf\";\n",
      "  var cookies = document.cookie.split(\"; \");\n",
      "  for (var i = 0; i < cookies.length; ++i) {\n",
      "    if ((cookies[i].indexOf(\"trkCode=\") == 0) && (cookies[i].length > 8)) {\n",
      "      trk = cookies[i].substring(8);\n",
      "    }\n",
      "    else if ((cookies[i].indexOf(\"trkInfo=\") == 0) && (cookies[i].length > 8)) {\n",
      "      trkInfo = cookies[i].substring(8);\n",
      "    }\n",
      "  }\n",
      "\n",
      "  if (window.location.protocol == \"http:\") {\n",
      "    // If \"sl\" cookie is set, redirect to https.\n",
      "    for (var i = 0; i < cookies.length; ++i) {\n",
      "      if ((cookies[i].indexOf(\"sl=\") == 0) && (cookies[i].length > 3)) {\n",
      "        window.location.href = \"https:\" + window.location.href.substring(window.location.protocol.length);\n",
      "        return;\n",
      "      }\n",
      "    }\n",
      "  }\n",
      "\n",
      "  // Get the new domain. For international domains such as\n",
      "  // fr.linkedin.com, we convert it to www.linkedin.com\n",
      "  // treat .cn similar to .com here\n",
      "  var domain = location.host;\n",
      "  if (domain != \"www.linkedin.com\" && domain != \"www.linkedin.cn\") {\n",
      "    var subdomainIndex = location.host.indexOf(\".linkedin\");\n",
      "    if (subdomainIndex != -1) {\n",
      "      domain = \"www\" + location.host.substring(subdomainIndex);\n",
      "    }\n",
      "  }\n",
      "\n",
      "  window.location.href = \"https://\" + domain + \"/authwall?trk=\" + trk + \"&trkInfo=\" + trkInfo +\n",
      "      \"&original_referer=\" + document.referrer.substr(0, 200) +\n",
      "      \"&sessionRedirect=\" + encodeURIComponent(window.location.href);\n",
      "}\n",
      "  </script>\n",
      " </head>\n",
      "</html>\n",
      "\n"
     ]
    }
   ],
   "source": [
    "# scrape linkedin profile and extract education, experience, skills, etc. in a structured format\n",
    "\n",
    "def scrape_linkedin_profile(linkedin_url):\n",
    "    response = requests.get(linkedin_url)\n",
    "    soup = BeautifulSoup(response.text, 'html.parser')\n",
    "    print(soup.prettify())\n",
    "\n",
    "linkedin_url = 'https://www.linkedin.com/in/yanis-miraoui-54377a1b8/'\n",
    "scrape_linkedin_profile(linkedin_url)"
   ]
  },
  {
   "cell_type": "code",
   "execution_count": 31,
   "metadata": {},
   "outputs": [],
   "source": [
    "# use pymupdf to read cv and extract text in a structured format\n",
    "import pymupdf\n",
    "\n",
    "def extract_text_from_cv(cv_path):\n",
    "    pdf = pymupdf.open(cv_path)\n",
    "    text = ''\n",
    "    for page in pdf.pages():\n",
    "        text += page.get_text()\n",
    "    return text\n",
    "\n",
    "extract_text_from_cv('./cv_examples/CV Yanis MIRAOUI.pdf')\n",
    "\n",
    "\n",
    "# use llm to structure the text extracted from the cv (using together ai)\n",
    "from together import Together\n",
    "import os\n",
    "import toml\n",
    "\n",
    "secrets_path = 'secrets.toml'\n",
    "secrets = toml.load(secrets_path)\n",
    "os.environ['TOGETHER_API_KEY'] = secrets['TOGETHER_API_KEY']\n",
    "\n",
    "client = Together(api_key=os.environ.get(\"TOGETHER_API_KEY\"))\n",
    "\n",
    "def structured_cv_text(text):\n",
    "    prompt = \"\"\"\n",
    "        Extract the following information from the text: \n",
    "        {text}\n",
    "\n",
    "        \n",
    "        The output should be a structured json with the following fields:\n",
    "        - education: list of tuples (degree, school, location, start date, end date)\n",
    "        - experience: list of tuples (company, title, location, start date, end date)\n",
    "        - skills: list of strings\n",
    "        - projects: list of tuples (name, description, start date, end date)\n",
    "        - languages: list of strings\n",
    "        If you cannot find a field, leave it empty. Make sure that the information is correct, present in the text and not hallucinated.\n",
    "        \"\"\"       \n",
    "    response = client.chat.completions.create(\n",
    "        model=\"meta-llama/Meta-Llama-3.1-70B-Instruct-Turbo\",\n",
    "        messages=[{\"role\": \"user\", \"content\": prompt.format(text=text)}],\n",
    "        stream=False\n",
    "    )\n",
    "    return response.choices[0].message.content"
   ]
  },
  {
   "cell_type": "code",
   "execution_count": 32,
   "metadata": {},
   "outputs": [
    {
     "data": {
      "text/plain": [
       "'Yanis MIRAOUI \\nStanford, USA | +1 (650) 505 3509 | ymiraoui@stanford.edu | https://yanis.miraoui.com/ \\nEDUCATION \\nStanford University \\nStanford, USA \\nMS Statistics & Data Science \\nSeptember 2023 - June 2025 \\nImperial College London & ETH Zürich \\nLondon, UK – Zürich, Switzerland \\nMSci Mathematics, Grade: First-Class Honors \\nOctober 2019 - June 2023 \\nLANGUAGES\\nFrench: Native  \\n \\nMoroccan: Fluent \\nEnglish: Fluent \\nGerman: Professional proficiency  \\nSpanish: Fluent \\nArabic: Intermediate\\nPROFESSIONAL EXPERIENCES \\nOracle \\nRedwood City, USA \\nResearch Data Scientist Intern \\nSeptember 2024 - Present \\n• \\nDesigned, implemented, and evaluated fully integrated LLM Agents at Oracle Labs, improving workflow automation for data \\nscientists \\n• \\nCollaborated with cross-functional teams to identify optimization opportunities, leveraging LLMs to improve agent accuracy \\nStanford Computational Neuroscience Laboratory (CNS Lab) \\n \\nStanford, USA \\nResearch Assistant \\n \\nSeptember 2023 – Present \\n• \\nBuilt state-of-the-art Graph Neural Network models to measure neural fMRI connectivity of different brain parcels \\n• \\nDeveloped an optimal parcellation method of brain regions reducing computational complexity and processing time for a wide range \\nof downstream tasks by 70% \\n• \\nPublished and presented my research findings on GNN models for neural connectivity at the MICCAI 2024 conference \\nSnowflake \\nSan Mateo, USA \\nApplied Research Data Scientist Intern \\nJune 2024 - August 2024 \\n• \\nDeveloped a RAG chatbot enhancing sales team efficiency by integrating knowledge from PDFs and web pages \\n• \\nBuilt a multilingual translation tool leveraging LLMs to improve translation quality and reducing content translation time and cost \\n• \\nLed the creation of a forecasting model accurately predicting Sales Qualified Opportunities (SQOs) with less than 12% error rate \\nStanford University \\nStanford, USA \\nCourse Assistant for CS 229, CS 225, MS&E 211DS & CS 236 \\nSeptember 2023 – August 2024 \\n• \\nLed engaging weekly discussion sections, answered questions, and provided guidance on course content \\n• \\nLectured classes on advanced techniques for applying optimization in Machine Learning and Data Science \\n• \\nDesigned and graded assignments and exams, as well as mentored students’ final projects \\nEgoli Media \\nRemote \\nAI Researcher Intern \\nAugust 2021 - September 2021 \\n• \\nCreated a machine learning face recognition application using OpenCV and Dlib that can accurately identify athletes regardless of the \\nway their faces are posed or if they are wearing eyeglasses or sunglasses \\n• \\nBuilt NLP models using Transformers and sentiment analysis to classify sports commentaries and extract insights of sports events — \\nachieved generalization accuracy of 82% on data from diverse sources \\nSopra Steria Group \\nRennes, France \\nMachine Learning Engineer Intern \\nJune 2021 - August 2021 \\n• \\nLed an entire machine learning project from conception to implementation for customer service for a French telecom company \\n• \\nDeveloped a full machine learning CI/CD pipeline leveraging BERT to reduce the resolution time of support tickets by +60% \\nLEADERSHIP \\n \\nCODE4GREEN Hackathon \\nBerlin, Germany \\nWinner \\nJuly 2020 \\n• \\nDeveloped a machine learning application using Python that can detect with satellite imagery the pollution routes and cycles over \\nrivers and seas to allow NGOs to better understand and target risk areas \\n• \\nAwarded €3,000 for developing a machine learning application detecting pollution routes in water bodies using satellite imagery \\nPERSONAL PROJECTS \\n \\nNFT Market Analysis and Trading \\n \\nJanuary 2022 - Present \\n• \\nDeveloped an automated trading app on GCP that utilizes machine learning algorithms to predict NFT market trends, generating \\nover $2,200 in monthly revenue. \\n• \\nCreated a dashboard using Dash and Heroku to visualize and summarize results as well as to optimize portfolio management \\nSports Fantasy Prediction and Optimization \\n \\nJanuary 2021 – December 2023 \\n• \\nGathered and engineered multiple datasets to build a Boosting model predicting the performance of athletes in the next game  \\n• \\nBuilt an algorithm implementing Linear Optimization to assemble fantasy sports teams, to earn +$3,000 in Daily Fantasy Contests  \\nSKILLS AND PERSONAL INTERESTS \\nPython, R, C, SQL, NodeJS, Git, Google Cloud Platform, AWS, Microsoft Azure, Snowflake, LaTeX, Microsoft Office, G Suite \\n'"
      ]
     },
     "execution_count": 32,
     "metadata": {},
     "output_type": "execute_result"
    }
   ],
   "source": [
    "extract_text_from_cv('./cv_examples/CV Yanis MIRAOUI.pdf')"
   ]
  },
  {
   "cell_type": "code",
   "execution_count": 33,
   "metadata": {},
   "outputs": [
    {
     "name": "stdout",
     "output_type": "stream",
     "text": [
      "id='8daecc75ff0715e9-SJC' object=<ObjectType.ChatCompletion: 'chat.completion'> created=1730326889 model='meta-llama/Meta-Llama-3.1-70B-Instruct-Turbo' choices=[ChatCompletionChoicesData(index=0, logprobs=None, seed=14713538458809217000, finish_reason=<FinishReason.EOS: 'eos'>, message=ChatCompletionMessage(role=<MessageRole.ASSISTANT: 'assistant'>, content='```json\\n{\\n    \"education\": [\\n        (\"MS Statistics & Data Science\", \"Stanford University\", \"Stanford, USA\", \"September 2023\", \"June 2025\"),\\n        (\"MSci Mathematics\", \"Imperial College London & ETH Zürich\", \"London, UK – Zürich, Switzerland\", \"October 2019\", \"June 2023\")\\n    ],\\n    \"experience\": [\\n        (\"Oracle\", \"Research Data Scientist Intern\", \"Redwood City, USA\", \"September 2024\", \"Present\"),\\n        (\"Stanford Computational Neuroscience Laboratory (CNS Lab)\", \"Research Assistant\", \"Stanford, USA\", \"September 2023\", \"Present\"),\\n        (\"Snowflake\", \"Applied Research Data Scientist Intern\", \"San Mateo, USA\", \"June 2024\", \"August 2024\"),\\n        (\"Stanford University\", \"Course Assistant for CS 229, CS 225, MS&E 211DS & CS 236\", \"Stanford, USA\", \"September 2023\", \"August 2024\"),\\n        (\"Egoli Media\", \"AI Researcher Intern\", \"Remote\", \"August 2021\", \"September 2021\"),\\n        (\"Sopra Steria Group\", \"Machine Learning Engineer Intern\", \"Rennes, France\", \"June 2021\", \"August 2021\")\\n    ],\\n    \"skills\": [\\n        \"Python\",\\n        \"R\",\\n        \"C\",\\n        \"SQL\",\\n        \"NodeJS\",\\n        \"Git\",\\n        \"Google Cloud Platform\",\\n        \"AWS\",\\n        \"Microsoft Azure\",\\n        \"Snowflake\",\\n        \"LaTeX\",\\n        \"Microsoft Office\",\\n        \"G Suite\"\\n    ],\\n    \"projects\": [\\n        (\"NFT Market Analysis and Trading\", \"Developed an automated trading app on GCP that utilizes machine learning algorithms to predict NFT market trends, generating over $2,200 in monthly revenue.\", \"January 2022\", \"Present\"),\\n        (\"Sports Fantasy Prediction and Optimization\", \"Gathered and engineered multiple datasets to build a Boosting model predicting the performance of athletes in the next game\", \"January 2021\", \"December 2023\")\\n    ],\\n    \"languages\": [\\n        \"French\",\\n        \"Moroccan\",\\n        \"English\",\\n        \"German\",\\n        \"Spanish\",\\n        \"Arabic\"\\n    ]\\n}\\n```', tool_calls=[]))] prompt=[] usage=UsageData(prompt_tokens=1132, completion_tokens=488, total_tokens=1620)\n",
      "```json\n",
      "{\n",
      "    \"education\": [\n",
      "        (\"MS Statistics & Data Science\", \"Stanford University\", \"Stanford, USA\", \"September 2023\", \"June 2025\"),\n",
      "        (\"MSci Mathematics\", \"Imperial College London & ETH Zürich\", \"London, UK – Zürich, Switzerland\", \"October 2019\", \"June 2023\")\n",
      "    ],\n",
      "    \"experience\": [\n",
      "        (\"Oracle\", \"Research Data Scientist Intern\", \"Redwood City, USA\", \"September 2024\", \"Present\"),\n",
      "        (\"Stanford Computational Neuroscience Laboratory (CNS Lab)\", \"Research Assistant\", \"Stanford, USA\", \"September 2023\", \"Present\"),\n",
      "        (\"Snowflake\", \"Applied Research Data Scientist Intern\", \"San Mateo, USA\", \"June 2024\", \"August 2024\"),\n",
      "        (\"Stanford University\", \"Course Assistant for CS 229, CS 225, MS&E 211DS & CS 236\", \"Stanford, USA\", \"September 2023\", \"August 2024\"),\n",
      "        (\"Egoli Media\", \"AI Researcher Intern\", \"Remote\", \"August 2021\", \"September 2021\"),\n",
      "        (\"Sopra Steria Group\", \"Machine Learning Engineer Intern\", \"Rennes, France\", \"June 2021\", \"August 2021\")\n",
      "    ],\n",
      "    \"skills\": [\n",
      "        \"Python\",\n",
      "        \"R\",\n",
      "        \"C\",\n",
      "        \"SQL\",\n",
      "        \"NodeJS\",\n",
      "        \"Git\",\n",
      "        \"Google Cloud Platform\",\n",
      "        \"AWS\",\n",
      "        \"Microsoft Azure\",\n",
      "        \"Snowflake\",\n",
      "        \"LaTeX\",\n",
      "        \"Microsoft Office\",\n",
      "        \"G Suite\"\n",
      "    ],\n",
      "    \"projects\": [\n",
      "        (\"NFT Market Analysis and Trading\", \"Developed an automated trading app on GCP that utilizes machine learning algorithms to predict NFT market trends, generating over $2,200 in monthly revenue.\", \"January 2022\", \"Present\"),\n",
      "        (\"Sports Fantasy Prediction and Optimization\", \"Gathered and engineered multiple datasets to build a Boosting model predicting the performance of athletes in the next game\", \"January 2021\", \"December 2023\")\n",
      "    ],\n",
      "    \"languages\": [\n",
      "        \"French\",\n",
      "        \"Moroccan\",\n",
      "        \"English\",\n",
      "        \"German\",\n",
      "        \"Spanish\",\n",
      "        \"Arabic\"\n",
      "    ]\n",
      "}\n",
      "```\n"
     ]
    }
   ],
   "source": [
    "print(structured_cv_text(extract_text_from_cv('./cv_examples/CV Yanis MIRAOUI.pdf')))"
   ]
  },
  {
   "cell_type": "code",
   "execution_count": null,
   "metadata": {},
   "outputs": [],
   "source": []
  }
 ],
 "metadata": {
  "kernelspec": {
   "display_name": "langchain_env",
   "language": "python",
   "name": "python3"
  },
  "language_info": {
   "codemirror_mode": {
    "name": "ipython",
    "version": 3
   },
   "file_extension": ".py",
   "mimetype": "text/x-python",
   "name": "python",
   "nbconvert_exporter": "python",
   "pygments_lexer": "ipython3",
   "version": "3.11.10"
  }
 },
 "nbformat": 4,
 "nbformat_minor": 2
}
